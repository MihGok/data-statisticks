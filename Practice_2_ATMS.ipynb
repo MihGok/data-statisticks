{
  "nbformat": 4,
  "nbformat_minor": 0,
  "metadata": {
    "colab": {
      "provenance": []
    },
    "kernelspec": {
      "name": "python3",
      "display_name": "Python 3"
    },
    "language_info": {
      "name": "python"
    }
  },
  "cells": [
    {
      "cell_type": "code",
      "source": [
        "import numpy as np, pandas as pd\n",
        "from scipy.stats import norm,t,chi2"
      ],
      "metadata": {
        "id": "0Xi9MFLN77H5"
      },
      "execution_count": 67,
      "outputs": []
    },
    {
      "cell_type": "code",
      "source": [
        "data = []"
      ],
      "metadata": {
        "id": "X4jDCu92urJU"
      },
      "execution_count": 9,
      "outputs": []
    },
    {
      "cell_type": "code",
      "execution_count": 10,
      "metadata": {
        "id": "GCQ-YDx07BLU"
      },
      "outputs": [],
      "source": [
        "for i in range(1,5):\n",
        "  name = 'Data' + str(i)\n",
        "  with open('/content/' + str(i) + '.txt','r') as f:\n",
        "    data_cur = []\n",
        "    for line in f:\n",
        "      data_cur.append(float(line[:-2]))\n",
        "    data.append(data_cur)\n"
      ]
    },
    {
      "cell_type": "code",
      "source": [
        "class Data:\n",
        "  def __init__(self,data, interval = 0.95):\n",
        "    self.name = name\n",
        "    self.data = data\n",
        "    self.n = len(data)\n",
        "    self.calculate_avg()\n",
        "    self.calculate_sigma()\n",
        "    self.interval = interval\n",
        "    self.x_labmda_norm = 1.96\n",
        "    self.t_lambda = t.ppf((1 - (1 - self.interval) / 2), self.n - 1)\n",
        "    self.calculate_chi2()\n",
        "\n",
        "  def calculate_avg(self):\n",
        "    self.avg = sum(self.data)/len(self.data)\n",
        "\n",
        "  def calculate_sigma(self):\n",
        "    self.sigma = (sum([(float(i)-self.avg)**2 for i in self.data])/(self.n - 1))**0.5\n",
        "    self.num = self.sigma/((self.n)**0.5)\n",
        "\n",
        "  def calculate_interval_norm(self):\n",
        "    self.bottom_interval_norm = self.avg - self.x_labmda_norm * self.num\n",
        "    self.top_interval_norm = self.avg + self.x_labmda_norm * self.num\n",
        "\n",
        "  def get_interval_norm(self):\n",
        "    self.calculate_interval_norm()\n",
        "    return (f'[{self.bottom_interval_norm} : {self.top_interval_norm}]')\n",
        "\n",
        "  def calculate_t_interval(self):\n",
        "    self.bottom_interval_t = self.avg - self.t_lambda * self.num\n",
        "    self.top_interval_t = self.avg + self.t_lambda * self.num\n",
        "\n",
        "  def get_interval_t(self):\n",
        "    self.calculate_t_interval()\n",
        "    return (f'[{self.bottom_interval_t} : {self.top_interval_t}]')\n",
        "\n",
        "  def calculate_chi2(self):\n",
        "    self.chi2_bottom =  chi2.ppf((1 - self.interval)/2,self.n - 1)\n",
        "    self.chi2_top = chi2.ppf(1 - (1 - self.interval)/2,self.n - 1)\n",
        "\n",
        "  def calculate_interval_chi2(self):\n",
        "    self.chi2_interval_bottom = self.sigma * (self.n -1)**0.5 / (self.chi2_bottom)**0.5\n",
        "    self.chi2_interval_top = self.sigma * (self.n -1)**0.5 / (self.chi2_top)**0.5\n",
        "\n",
        "  def get_interval_chi2(self):\n",
        "    self.calculate_interval_chi2()\n",
        "    return (f'[{self.chi2_interval_bottom} : {self.chi2_interval_top}]')\n",
        "\n",
        "  def check_belongs_to_interval(self, number):\n",
        "    print(f'The fact that your value is in interval is {number>=self.bottom_interval * number <=self.top_interval}')"
      ],
      "metadata": {
        "id": "4RKJu1uHpdx3"
      },
      "execution_count": 68,
      "outputs": []
    },
    {
      "cell_type": "code",
      "source": [
        "for i in range(1,5):\n",
        "  elem = data[i - 1]\n",
        "  Object = Data(elem)\n",
        "  print(f'For {i} distribution')\n",
        "  print(f'Normal distribution interval is {Object.get_interval_norm()}')\n",
        "  print(f'Student distribution interval is {Object.get_interval_t()}')\n",
        "  print(f'Chi2 distribution interval is {Object.get_interval_chi2()}\\n')\n",
        "\n"
      ],
      "metadata": {
        "colab": {
          "base_uri": "https://localhost:8080/"
        },
        "id": "MTQAF0bdt_SJ",
        "outputId": "a597e3d4-e445-4310-eeb2-403433be55f2"
      },
      "execution_count": 70,
      "outputs": [
        {
          "output_type": "stream",
          "name": "stdout",
          "text": [
            "For 1 distribution\n",
            "Normal distribution interval is [45.24043240480019 : 47.582303896974395]\n",
            "Student distribution interval is [45.225964805727344 : 47.59677149604724]\n",
            "Chi2 distribution interval is [6.940036131476182 : 5.245355105064102]\n",
            "\n",
            "For 2 distribution\n",
            "Normal distribution interval is [50.21010813527023 : 57.526473858861166]\n",
            "Student distribution interval is [49.646156015514315 : 58.090425978617084]\n",
            "Chi2 distribution interval is [10.775002729082395 : 4.059698122219452]\n",
            "\n",
            "For 3 distribution\n",
            "Normal distribution interval is [32.40399771360873 : 35.75609879886183]\n",
            "Student distribution interval is [32.38328912446746 : 35.7768073880031]\n",
            "Chi2 distribution interval is [9.933808377512179 : 7.508080865658083]\n",
            "\n",
            "For 4 distribution\n",
            "Normal distribution interval is [43.43681424551144 : 51.048691160629645]\n",
            "Student distribution interval is [42.85008385452503 : 51.635421551616055]\n",
            "Chi2 distribution interval is [11.210209772507502 : 4.223671093864356]\n",
            "\n"
          ]
        }
      ]
    },
    {
      "cell_type": "code",
      "source": [
        "# Проверка критических значений\n",
        "print(norm.ppf(1 - (1 - 0.95) / 2))\n",
        "print(t.ppf((1 - (1 - 0.95) / 2), 9))"
      ],
      "metadata": {
        "colab": {
          "base_uri": "https://localhost:8080/"
        },
        "id": "BxeiIWPyu8iB",
        "outputId": "29437f05-0ed3-4d24-e50b-220c15a735af"
      },
      "execution_count": 71,
      "outputs": [
        {
          "output_type": "stream",
          "name": "stdout",
          "text": [
            "1.959963984540054\n",
            "2.2621571628540993\n"
          ]
        }
      ]
    },
    {
      "cell_type": "code",
      "source": [],
      "metadata": {
        "id": "fLwojYXn3T4s"
      },
      "execution_count": null,
      "outputs": []
    }
  ]
}